{
 "cells": [
  {
   "cell_type": "markdown",
   "id": "aa2821aa",
   "metadata": {},
   "source": [
    "Question: Four people need to cross a bridge in 17 minutes in the middle of the night. The bridge can only hold two or less people at any time and they only have one flashlight so they must travel together (or alone). The flashlight can only travel with a person so every time it crosses the bridge it must be carried back. Tom can cross in 1 minute, John can cross in 2 minutes, Sally can cross in 5 minutes, and Connor can cross in 10 minutes. If two people cross together they go as fast as the slower person.How can they cross the bridge in 17 minutes or less?"
   ]
  },
  {
   "cell_type": "code",
   "execution_count": null,
   "id": "b41bd399",
   "metadata": {},
   "outputs": [],
   "source": []
  },
  {
   "cell_type": "markdown",
   "id": "2141b66a",
   "metadata": {},
   "source": [
    "## Quick Introduction to Python"
   ]
  },
  {
   "cell_type": "code",
   "execution_count": null,
   "id": "b66125c0",
   "metadata": {},
   "outputs": [],
   "source": [
    "2+3"
   ]
  },
  {
   "cell_type": "code",
   "execution_count": null,
   "id": "21174b59",
   "metadata": {},
   "outputs": [],
   "source": [
    "# comments have hash tag at the beginning of the line\n",
    "# comments do't run\n",
    "# 2+3\n",
    "\n"
   ]
  },
  {
   "cell_type": "code",
   "execution_count": null,
   "id": "405f6a61",
   "metadata": {},
   "outputs": [],
   "source": [
    "a = 2 # this line assigns the value of 2 to the variable a\n",
    "b = 3"
   ]
  },
  {
   "cell_type": "code",
   "execution_count": null,
   "id": "c59444c2",
   "metadata": {},
   "outputs": [],
   "source": [
    "a"
   ]
  },
  {
   "cell_type": "code",
   "execution_count": null,
   "id": "200acfcf",
   "metadata": {},
   "outputs": [],
   "source": [
    "a+b"
   ]
  },
  {
   "cell_type": "code",
   "execution_count": null,
   "id": "d71e0c45",
   "metadata": {},
   "outputs": [],
   "source": [
    "# We can store numbers in variables or words or many other data types\n",
    "\n",
    "a = 2 # integer\n",
    "b = 3.4 # float \n",
    "c = \"Hello\"  # this is called a string\n"
   ]
  },
  {
   "cell_type": "code",
   "execution_count": null,
   "id": "bf66376f",
   "metadata": {},
   "outputs": [],
   "source": [
    "a+b # This nmakessense"
   ]
  },
  {
   "cell_type": "code",
   "execution_count": null,
   "id": "3803c25a",
   "metadata": {},
   "outputs": [],
   "source": [
    "a+c # does not make sense"
   ]
  },
  {
   "cell_type": "code",
   "execution_count": null,
   "id": "123ca3e7",
   "metadata": {},
   "outputs": [],
   "source": [
    "# But does this make sense\n",
    "\n",
    "c+c"
   ]
  },
  {
   "cell_type": "code",
   "execution_count": null,
   "id": "79a29f34",
   "metadata": {},
   "outputs": [],
   "source": []
  },
  {
   "cell_type": "code",
   "execution_count": null,
   "id": "6c0ae452",
   "metadata": {},
   "outputs": [],
   "source": []
  },
  {
   "cell_type": "code",
   "execution_count": null,
   "id": "f6b97d48",
   "metadata": {},
   "outputs": [],
   "source": []
  },
  {
   "cell_type": "code",
   "execution_count": null,
   "id": "35ba2bca",
   "metadata": {},
   "outputs": [],
   "source": []
  },
  {
   "cell_type": "code",
   "execution_count": null,
   "id": "382f712c",
   "metadata": {},
   "outputs": [],
   "source": []
  },
  {
   "cell_type": "code",
   "execution_count": null,
   "id": "448da5c2",
   "metadata": {},
   "outputs": [],
   "source": []
  },
  {
   "cell_type": "code",
   "execution_count": null,
   "id": "bb3e430a",
   "metadata": {},
   "outputs": [],
   "source": []
  },
  {
   "cell_type": "code",
   "execution_count": null,
   "id": "92810175",
   "metadata": {},
   "outputs": [],
   "source": []
  },
  {
   "cell_type": "markdown",
   "id": "df04ba9d",
   "metadata": {},
   "source": [
    "## Lists and Loops"
   ]
  },
  {
   "cell_type": "code",
   "execution_count": null,
   "id": "f8a4f4b2",
   "metadata": {},
   "outputs": [],
   "source": [
    "d = [3.14,\"Chipper\",1914, 1957, 1995,\"Hello\" ]  # this is called a list\n",
    "d"
   ]
  },
  {
   "cell_type": "code",
   "execution_count": null,
   "id": "d0f1a726",
   "metadata": {},
   "outputs": [],
   "source": [
    "d[1] # access the first element of the list would should be?"
   ]
  },
  {
   "cell_type": "code",
   "execution_count": null,
   "id": "987da8f2",
   "metadata": {},
   "outputs": [],
   "source": [
    "# What happened?\n",
    "# Python starts numbering at zero.  Why?  Aska computer scientist! \n",
    "\n",
    "d[0], d[1], d[5]"
   ]
  },
  {
   "cell_type": "code",
   "execution_count": null,
   "id": "ac912b3d",
   "metadata": {},
   "outputs": [],
   "source": [
    "d[-1] # what does this do?"
   ]
  },
  {
   "cell_type": "code",
   "execution_count": null,
   "id": "2d68fec1",
   "metadata": {},
   "outputs": [],
   "source": [
    "d[1:4] # what does this do?"
   ]
  },
  {
   "cell_type": "code",
   "execution_count": null,
   "id": "10409575",
   "metadata": {},
   "outputs": [],
   "source": [
    "d[0:5:2] # what does this do?  Not d[::2]  does the same thing"
   ]
  },
  {
   "cell_type": "code",
   "execution_count": null,
   "id": "8b5fdc4c",
   "metadata": {},
   "outputs": [],
   "source": [
    "#Below alist wil give you all of the numbers from 1 to 100.\n",
    "aList = list(range(1,101))\n",
    "#aList"
   ]
  },
  {
   "cell_type": "code",
   "execution_count": null,
   "id": "7e23fa89",
   "metadata": {},
   "outputs": [],
   "source": [
    "# Problem 1.  Using slicing find all even numbers from 1 to 100"
   ]
  },
  {
   "cell_type": "code",
   "execution_count": null,
   "id": "58ed5453",
   "metadata": {},
   "outputs": [],
   "source": [
    "# Problem 2.  Using slicing find all odd numbers from 1 to 100"
   ]
  },
  {
   "cell_type": "code",
   "execution_count": null,
   "id": "587efdb9",
   "metadata": {},
   "outputs": [],
   "source": [
    "# Problem 3.  Using slicing find every third number starting at 55"
   ]
  },
  {
   "cell_type": "code",
   "execution_count": null,
   "id": "178164d1",
   "metadata": {},
   "outputs": [],
   "source": []
  },
  {
   "cell_type": "code",
   "execution_count": null,
   "id": "69a2ba68",
   "metadata": {},
   "outputs": [],
   "source": [
    "# Strings ar lists\n",
    "aString = \"Four score and seven years ago our fathers brought forth on this continent a new nation\""
   ]
  },
  {
   "cell_type": "code",
   "execution_count": null,
   "id": "03bd0d0a",
   "metadata": {},
   "outputs": [],
   "source": [
    "aString[5:10]"
   ]
  },
  {
   "cell_type": "code",
   "execution_count": null,
   "id": "e76a00e9",
   "metadata": {},
   "outputs": [],
   "source": [
    "# Problem 4.  Using slicing isolate the word \"fathers\""
   ]
  },
  {
   "cell_type": "code",
   "execution_count": null,
   "id": "7d3c482e",
   "metadata": {},
   "outputs": [],
   "source": []
  },
  {
   "cell_type": "code",
   "execution_count": null,
   "id": "e8955818",
   "metadata": {},
   "outputs": [],
   "source": [
    "# lists are iterable!\n",
    "d = [3.14,\"Chipper\",1914, 1957, 1995,\"Hello\" ]  # our list from erlier\n",
    "\n",
    "for item in d:\n",
    "    print(item)"
   ]
  },
  {
   "cell_type": "code",
   "execution_count": null,
   "id": "f356954e",
   "metadata": {},
   "outputs": [],
   "source": [
    "for item in d:\n",
    "    print(2*item)"
   ]
  },
  {
   "cell_type": "code",
   "execution_count": null,
   "id": "ac2b5ae8",
   "metadata": {},
   "outputs": [],
   "source": [
    "aList = list(range(1,5))\n",
    "aList"
   ]
  },
  {
   "cell_type": "code",
   "execution_count": null,
   "id": "592a2657",
   "metadata": {},
   "outputs": [],
   "source": [
    "total = 0\n",
    "for num in aList:\n",
    "    print(\"Before adding.  num = \", num, \"total = \", total)\n",
    "    total = total + num\n",
    "    print(\"After adding.  num = \", num, \"total = \", total)\n",
    "    print(\"=\"*30)\n"
   ]
  },
  {
   "cell_type": "code",
   "execution_count": null,
   "id": "ef549342",
   "metadata": {},
   "outputs": [],
   "source": [
    "# Problem Complete the code below to add all of the numbers on the list\n",
    "aList = list(range(1,101))\n",
    "total = 0 \n",
    "for num in aList:\n",
    "    #write some code here\n",
    "\n",
    "\n",
    "print(total)"
   ]
  },
  {
   "cell_type": "code",
   "execution_count": null,
   "id": "2ff840c6",
   "metadata": {},
   "outputs": [],
   "source": [
    "# Problem Complete the code below to multiply all of the numbers on the list \n",
    "# you ar computing 6! = 720 \n",
    "aList = list(range(1,7))\n",
    "factorial = 1 \n",
    "for num in aList:\n",
    "    #write some code here\n",
    "\n",
    "\n",
    "print(factorial)"
   ]
  },
  {
   "cell_type": "code",
   "execution_count": null,
   "id": "bae0dafb",
   "metadata": {},
   "outputs": [],
   "source": []
  },
  {
   "cell_type": "code",
   "execution_count": null,
   "id": "f2a879ca",
   "metadata": {},
   "outputs": [],
   "source": []
  },
  {
   "cell_type": "markdown",
   "id": "015f90f0",
   "metadata": {},
   "source": [
    "## List copy and list append"
   ]
  },
  {
   "cell_type": "code",
   "execution_count": null,
   "id": "ad203e77",
   "metadata": {},
   "outputs": [],
   "source": []
  },
  {
   "cell_type": "code",
   "execution_count": null,
   "id": "8956d735",
   "metadata": {},
   "outputs": [],
   "source": []
  },
  {
   "cell_type": "code",
   "execution_count": null,
   "id": "eede06c0",
   "metadata": {},
   "outputs": [],
   "source": []
  },
  {
   "cell_type": "code",
   "execution_count": null,
   "id": "b3ab2122",
   "metadata": {},
   "outputs": [],
   "source": []
  },
  {
   "cell_type": "code",
   "execution_count": null,
   "id": "8ddff6fc",
   "metadata": {},
   "outputs": [],
   "source": []
  },
  {
   "cell_type": "code",
   "execution_count": null,
   "id": "fbf5c9e6",
   "metadata": {},
   "outputs": [],
   "source": []
  },
  {
   "cell_type": "markdown",
   "id": "e4f4a1b5",
   "metadata": {},
   "source": [
    "##  Functions and recursion"
   ]
  },
  {
   "cell_type": "code",
   "execution_count": null,
   "id": "af874efa",
   "metadata": {},
   "outputs": [],
   "source": [
    "def add(num1, num2):\n",
    "    return num1+num2"
   ]
  },
  {
   "cell_type": "code",
   "execution_count": null,
   "id": "60392733",
   "metadata": {},
   "outputs": [],
   "source": [
    "add(5,4)"
   ]
  },
  {
   "cell_type": "code",
   "execution_count": null,
   "id": "8902c940",
   "metadata": {},
   "outputs": [],
   "source": [
    "def add3(a,b,c):\n",
    "    return add(add(a,b),c) # Huh?"
   ]
  },
  {
   "cell_type": "code",
   "execution_count": null,
   "id": "06080a51",
   "metadata": {},
   "outputs": [],
   "source": [
    "add3(1,2,3)"
   ]
  },
  {
   "cell_type": "code",
   "execution_count": null,
   "id": "2f5430a1",
   "metadata": {},
   "outputs": [],
   "source": [
    "#add all the numbers up to n\n",
    "def addfrom1to(n):\n",
    "    if n == 1:\n",
    "        return 1\n",
    "    else:\n",
    "        return n+addfrom1to(n-1)\n"
   ]
  },
  {
   "cell_type": "code",
   "execution_count": null,
   "id": "2050a9ca",
   "metadata": {},
   "outputs": [],
   "source": [
    "addfrom1to(10)"
   ]
  },
  {
   "cell_type": "code",
   "execution_count": null,
   "id": "bd5ce3af",
   "metadata": {},
   "outputs": [],
   "source": []
  },
  {
   "cell_type": "code",
   "execution_count": null,
   "id": "27084dfe",
   "metadata": {},
   "outputs": [],
   "source": []
  },
  {
   "cell_type": "code",
   "execution_count": null,
   "id": "b7e730e2",
   "metadata": {},
   "outputs": [],
   "source": []
  },
  {
   "cell_type": "code",
   "execution_count": null,
   "id": "980e4303",
   "metadata": {},
   "outputs": [],
   "source": []
  },
  {
   "cell_type": "code",
   "execution_count": null,
   "id": "1ddd0b58",
   "metadata": {},
   "outputs": [],
   "source": []
  },
  {
   "cell_type": "code",
   "execution_count": null,
   "id": "b45e973f",
   "metadata": {},
   "outputs": [],
   "source": []
  },
  {
   "cell_type": "code",
   "execution_count": null,
   "id": "104b716e",
   "metadata": {},
   "outputs": [],
   "source": []
  },
  {
   "cell_type": "code",
   "execution_count": null,
   "id": "db0e4023",
   "metadata": {},
   "outputs": [],
   "source": []
  },
  {
   "cell_type": "code",
   "execution_count": null,
   "id": "9fa18a36",
   "metadata": {},
   "outputs": [],
   "source": []
  },
  {
   "cell_type": "code",
   "execution_count": null,
   "id": "d266234f",
   "metadata": {},
   "outputs": [],
   "source": []
  },
  {
   "cell_type": "code",
   "execution_count": null,
   "id": "aa184ebb",
   "metadata": {},
   "outputs": [],
   "source": []
  },
  {
   "cell_type": "code",
   "execution_count": null,
   "id": "c69ae360",
   "metadata": {},
   "outputs": [],
   "source": []
  },
  {
   "cell_type": "code",
   "execution_count": null,
   "id": "603eae04",
   "metadata": {},
   "outputs": [],
   "source": []
  },
  {
   "cell_type": "code",
   "execution_count": null,
   "id": "50d0b648",
   "metadata": {},
   "outputs": [],
   "source": []
  },
  {
   "cell_type": "code",
   "execution_count": null,
   "id": "b7f0af86",
   "metadata": {},
   "outputs": [],
   "source": []
  },
  {
   "cell_type": "code",
   "execution_count": null,
   "id": "b30295ec",
   "metadata": {},
   "outputs": [],
   "source": []
  },
  {
   "cell_type": "code",
   "execution_count": null,
   "id": "c3816742",
   "metadata": {},
   "outputs": [],
   "source": []
  },
  {
   "cell_type": "markdown",
   "id": "fd2a656a",
   "metadata": {},
   "source": [
    "##  Now to the riddle"
   ]
  },
  {
   "cell_type": "code",
   "execution_count": null,
   "id": "353779d8",
   "metadata": {},
   "outputs": [],
   "source": [
    "# Representation [1,5], 5, [5,10], 10, [10,2]\n",
    "#"
   ]
  },
  {
   "cell_type": "code",
   "execution_count": null,
   "id": "7d67c4f9",
   "metadata": {},
   "outputs": [],
   "source": [
    "allList = [10,5,2,1]\n",
    "print(allList)"
   ]
  },
  {
   "cell_type": "code",
   "execution_count": null,
   "id": "8804215b",
   "metadata": {},
   "outputs": [],
   "source": [
    "def across(aStrategy):\n",
    "    PeopleAcross = []\n",
    "    for i in range(len(aStrategy)):\n",
    "        if i%2:\n",
    "            PeopleAcross.remove(aStrategy[i])\n",
    "        else:\n",
    "            PeopleAcross +=aStrategy[i]\n",
    "            \n",
    "    return PeopleAcross\n",
    "        \n",
    "def notAcross(aStrategy, allList):\n",
    "    PeopleNotAcross = allList.copy()\n",
    "    for crossedPerson in across(aStrategy):\n",
    "        PeopleNotAcross.remove(crossedPerson)\n",
    "    return PeopleNotAcross\n",
    "    "
   ]
  },
  {
   "cell_type": "code",
   "execution_count": null,
   "id": "b102fd4c",
   "metadata": {},
   "outputs": [],
   "source": [
    "fullS = [[1,5], 5, [5,10], 10, [10,2]]\n",
    "\n",
    "print(across(fullS))\n",
    "print(notAcross(fullS, allList))"
   ]
  },
  {
   "cell_type": "code",
   "execution_count": null,
   "id": "c3201fab",
   "metadata": {},
   "outputs": [],
   "source": [
    "print(fullS[:-1])\n",
    "print(across(fullS[:-1]))\n",
    "print(notAcross(fullS[:-1], allList))"
   ]
  },
  {
   "cell_type": "code",
   "execution_count": null,
   "id": "3ebf3250",
   "metadata": {},
   "outputs": [],
   "source": []
  },
  {
   "cell_type": "code",
   "execution_count": null,
   "id": "33911a73",
   "metadata": {},
   "outputs": [],
   "source": [
    "def SelectTwoIndices(n):\n",
    "    if n<3:\n",
    "        return [(2,1)]\n",
    "    else:\n",
    "        return [(n,i) for i in range(n-1,0,-1)]+SelectTwoIndices(n-1)"
   ]
  },
  {
   "cell_type": "code",
   "execution_count": null,
   "id": "bb014ec2",
   "metadata": {},
   "outputs": [],
   "source": [
    "def allTwosFromList(aList):\n",
    "    return [[aList[i-1]  for i in two ]   for two in SelectTwoIndices(len(aList))  ]\n",
    "    "
   ]
  },
  {
   "cell_type": "code",
   "execution_count": null,
   "id": "c86a9361",
   "metadata": {},
   "outputs": [],
   "source": [
    "allList = [10,5,2,1]\n",
    "print(allList)"
   ]
  },
  {
   "cell_type": "code",
   "execution_count": null,
   "id": "3ad95dae",
   "metadata": {},
   "outputs": [],
   "source": [
    "#Step1 First crossing\n",
    "allStrategies = []\n",
    "\n",
    "for two in allTwosFromList(allList):\n",
    "    newStrategy = []\n",
    "    newStrategy.append(two)\n",
    "    allStrategies.append(newStrategy)\n",
    "allStrategies"
   ]
  },
  {
   "cell_type": "code",
   "execution_count": null,
   "id": "23e63ad7",
   "metadata": {},
   "outputs": [],
   "source": [
    "NewAllStrategies = []\n",
    "#Step 2 Return of flashlight\n",
    "for aStrategy in allStrategies:\n",
    "    print(\"aStrategy\",aStrategy)\n",
    "    for crosser in across(aStrategy):\n",
    "        print(\"  crosser\",crosser)\n",
    "        newStrategy = aStrategy.copy()\n",
    "        newStrategy.append(crosser)\n",
    "        print(\"       newStrategy\", newStrategy)\n",
    "        NewAllStrategies.append(newStrategy)\n",
    "\n",
    "NewAllStrategies\n",
    "allStrategies = NewAllStrategies\n",
    "allStrategies"
   ]
  },
  {
   "cell_type": "code",
   "execution_count": null,
   "id": "61f7bd2c",
   "metadata": {},
   "outputs": [],
   "source": [
    "#Step 3 Second crossing of two\n",
    "NewAllStrategies = []\n",
    "\n",
    "for aStrategy in allStrategies:\n",
    "    print(\"aStrategy\",aStrategy)\n",
    "    \n",
    "    for two in allTwosFromList(notAcross(aStrategy, allList)):\n",
    "        print(\"  two\",two)\n",
    "        newStrategy = aStrategy.copy()\n",
    "        newStrategy.append(two)\n",
    "        print(\"       newStrategy\", newStrategy)\n",
    "        NewAllStrategies.append(newStrategy)\n",
    "\n",
    "allStrategies = NewAllStrategies\n",
    "NewAllStrategies"
   ]
  },
  {
   "cell_type": "code",
   "execution_count": null,
   "id": "db20075d",
   "metadata": {},
   "outputs": [],
   "source": [
    "NewAllStrategies = []\n",
    "#Step 4. The second return of the flashlight\n",
    "for aStrategy in allStrategies:\n",
    "    print(\"aStrategy\",aStrategy)\n",
    "    for crosser in across(aStrategy):\n",
    "        print(\"  crosser\",crosser)\n",
    "        newStrategy = aStrategy.copy()\n",
    "        newStrategy.append(crosser)\n",
    "        print(\"       newStrategy\", newStrategy)\n",
    "        NewAllStrategies.append(newStrategy)\n",
    "\n",
    "allStrategies = NewAllStrategies\n",
    "allStrategies"
   ]
  },
  {
   "cell_type": "code",
   "execution_count": null,
   "id": "d3b3732f",
   "metadata": {},
   "outputs": [],
   "source": []
  },
  {
   "cell_type": "code",
   "execution_count": null,
   "id": "867fe5c1",
   "metadata": {},
   "outputs": [],
   "source": [
    "# Timing of all Strategies and picking the fastest\n",
    "\n",
    "for aStrategy in allStrategies:\n",
    "    StrategyTime = 0\n",
    "    for crossing in aStrategy:\n",
    "        if isinstance(crossing, list):\n",
    "            stepTime = max(crossing) \n",
    "        else:\n",
    "            stepTime = crossing\n",
    "        StrategyTime += stepTime\n",
    "    StrategyTime += max(notAcross(aStrategy, allList))\n",
    "    print(aStrategy, StrategyTime)\n",
    "    "
   ]
  },
  {
   "cell_type": "code",
   "execution_count": null,
   "id": "4309f8eb",
   "metadata": {},
   "outputs": [],
   "source": [
    "max([1,2,3])"
   ]
  },
  {
   "cell_type": "code",
   "execution_count": null,
   "id": "37e5aa28",
   "metadata": {},
   "outputs": [],
   "source": []
  }
 ],
 "metadata": {
  "kernelspec": {
   "display_name": "Python 3 (ipykernel)",
   "language": "python",
   "name": "python3"
  },
  "language_info": {
   "codemirror_mode": {
    "name": "ipython",
    "version": 3
   },
   "file_extension": ".py",
   "mimetype": "text/x-python",
   "name": "python",
   "nbconvert_exporter": "python",
   "pygments_lexer": "ipython3",
   "version": "3.8.10"
  }
 },
 "nbformat": 4,
 "nbformat_minor": 5
}
